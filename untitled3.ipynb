{
  "nbformat": 4,
  "nbformat_minor": 0,
  "metadata": {
    "colab": {
      "provenance": []
    },
    "kernelspec": {
      "name": "python3",
      "display_name": "Python 3"
    },
    "language_info": {
      "name": "python"
    }
  },
  "cells": [
    {
      "cell_type": "code",
      "execution_count": null,
      "metadata": {
        "id": "-OimrMAD_S79"
      },
      "outputs": [],
      "source": []
    },
    {
      "cell_type": "markdown",
      "source": [
        "# Zadanie 1\n",
        "Które z następujących zadań wymagają w Twojej opinii inteligencji od człowieka:\n",
        "Moim zdaniem „programowanie” kanałów telewizyjnych” i “komponowanie muzyki” nie jest zawsze takie interesujące jako zrobione przez człowieka . I też jest jakość lepsza . Kierowanie samochodem dla mnie to nie jest joko mega bezpieczne.\n"
      ],
      "metadata": {
        "id": "KHcjuVgL_cyx"
      }
    },
    {
      "cell_type": "markdown",
      "source": [
        "# Zadanie 2\n",
        " Które z następujących problemów można uznać za mieszczące się w zakresie sztucznej inteligencji:\n",
        "Wszystkie z wymienionych problemów\n",
        "mozna uznac za mieszczace sie w zakresie sztucznej inteligenji ,\n",
        "poniewaz dotycza one zadan, które\n",
        "mozna rozwiazywaé za pomoca technik\n"
      ],
      "metadata": {
        "id": "pLd1QbEb_uXK"
      }
    },
    {
      "cell_type": "markdown",
      "source": [
        "# Zadanie 3\n",
        "Obecne systemy sztucznej inteligencji\n",
        "sa w stanie skutecznie imitowac\n",
        "niektóre rodzaje komunikacyjnego\n",
        "zachowania cztowieka, choc\n",
        "efektywnosc moze zalezec od poziomu\n",
        "skomplikowania rozmowy oraz\n",
        "dostepnych danych.Ale pewnie że lepsze omówić to z człowiekiem"
      ],
      "metadata": {
        "id": "xr13i-Pi_yRt"
      }
    },
    {
      "cell_type": "markdown",
      "source": [
        "# Zadanie 4\n",
        "Zadanie 4\n",
        "Dla porównania wykorzystałam  cleverbot.com i siri .  Różnica była taka że chat.bot rozmiawial  ze mną jako człowiek , jego odpowiedzi były proste i zrozumiałe , kiedy siri odpowiadał terminom bardziej naukowym, które były bardziej złożone\n",
        " . Bot radził sobie z tymi zadaniami, a odpowiedzi były takie, jakby ktoś siedział po drugiej stronie.Kiedy “siri” przestała działać po dwóch różnych pytaniach . I właśnie z drugie próby powiedziała żart . Też siri nie rozumiała odpowiedzi chat.bota . Też nie wyszło u mnie zdenerwować bota .Pewnie to było na odwrót . Jak najbardziej spodobał mi ten bot , trudniej jego odliczyć od zwykłego człowieka .   Ale w tym przypadku siri ma więcej nauczanej informacja czym bot , i na pytanie co jest “cognitive sience “ siri odpowiada  na  te pytanie , a bot nie .I też  na pytanie “ tell me a jok” on powiedział “my life” kiedy siri powiedziała naukowy ."
      ],
      "metadata": {
        "id": "GRVW95___2cj"
      }
    }
  ]
}