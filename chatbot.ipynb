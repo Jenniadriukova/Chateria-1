{
  "nbformat": 4,
  "nbformat_minor": 0,
  "metadata": {
    "colab": {
      "provenance": [],
      "authorship_tag": "ABX9TyP3L5mzp5wQ4aJWID8JDXjM",
      "include_colab_link": true
    },
    "kernelspec": {
      "name": "python3",
      "display_name": "Python 3"
    },
    "language_info": {
      "name": "python"
    }
  },
  "cells": [
    {
      "cell_type": "markdown",
      "metadata": {
        "id": "view-in-github",
        "colab_type": "text"
      },
      "source": [
        "<a href=\"https://colab.research.google.com/github/Jenniadriukova/Chateria-1/blob/main/chatbot.ipynb\" target=\"_parent\"><img src=\"https://colab.research.google.com/assets/colab-badge.svg\" alt=\"Open In Colab\"/></a>"
      ]
    },
    {
      "cell_type": "code",
      "execution_count": null,
      "metadata": {
        "id": "-OimrMAD_S79"
      },
      "outputs": [],
      "source": []
    },
    {
      "cell_type": "markdown",
      "source": [
        "# Zadanie 1\n",
        "Które z następujących zadań wymagają w Twojej opinii inteligencji od człowieka:\n",
        "uważam, że „programowanie kanałów telewizyjnych” i „komponowanie muzyki” nie zawsze są tak interesujące, gdy są wykonywane przez człowieka. Niemniej jednak, jakość tych działań często okazuje się wyższa, gdy zaangażowany jest człowiek. Z kolei kierowanie samochodem, w mojej opinii, nie zawsze jest w pełni bezpieczne.\n",
        "\n"
      ],
      "metadata": {
        "id": "KHcjuVgL_cyx"
      }
    },
    {
      "cell_type": "markdown",
      "source": [
        "\n"
      ],
      "metadata": {
        "id": "pLd1QbEb_uXK"
      }
    },
    {
      "cell_type": "markdown",
      "source": [
        "Zadanie 2\n",
        "streszczanie tekstu +\n",
        "tłumaczenie tekstu +\n",
        "klasyfikacja tekstu do kategorii tematycznych +\n",
        "odpowiadanie na proste pytania zadawane w języku naturalnym +\n",
        "rozwiązywanie układów równań +\n",
        "układanie rozkładu jazdy +\n",
        "rozwiązywanie układów równań liniowych +\n",
        "symboliczne obliczanie pochodnych +\n",
        "symboliczne całkowanie +\n",
        "kierowanie +\n",
        "Wszystkie z wymienionych problemów mozna uznac za mieszczace sie w zakresie sztucznej inteligencji, poniewaz dotycza one zadan, które mozna rozwiazywac za pomoca technik opracowanych w tej dziedzinie.\n",
        "Sztuczna inteligencja (Al) to\n",
        "interdyscyplinarna gataz informatyki, której celem jest tworzenie systemów zdolnych do wykonywania zadan wymagajacych inteligencji ludzkiej."
      ],
      "metadata": {
        "id": "1zSGPbhv23zS"
      }
    },
    {
      "cell_type": "markdown",
      "source": [
        "# Zadanie 3\n",
        "Obecne systemy sztucznej inteligencji potrafią skutecznie naśladować niektóre aspekty ludzkiej komunikacji, jednak ich efektywność może spadać wraz ze wzrostem złożoności rozmowy lub ograniczonym dostępem do danych. Ponadto AI brakuje takich cech jak empatia, intuicja czy zdolność do abstrakcyjnego myślenia, które są kluczowe w wielu sytuacjach. Dlatego w przypadku bardziej złożonych lub wrażliwych tematów lepiej omówić je z człowiekiem, który może w pełni zrozumieć kontekst i udzielić głębszej, bardziej empatycznej odpowiedzi.\n"
      ],
      "metadata": {
        "id": "xr13i-Pi_yRt"
      }
    },
    {
      "cell_type": "markdown",
      "source": [
        "# Zadanie 4\n",
        "Dla porównania wykorzystałam Cleverbot.com i Siri. Różnica polegała na tym, że Cleverbot rozmawiał ze mną w sposób bardziej ludzki – jego odpowiedzi były proste i zrozumiałe, podczas gdy Siri odpowiadała w sposób bardziej naukowy, używając terminów bardziej skomplikowanych. Cleverbot radził sobie z zadaniami, a jego odpowiedzi sprawiały wrażenie, jakby po drugiej stronie rzeczywiście siedział człowiek.\n",
        "\n",
        "Jednak Siri przestała działać po dwóch różnych pytaniach, a przy drugiej próbie odpowiedziała żartem. Co ciekawe, Siri nie rozumiała odpowiedzi Cleverbota. Próba zdenerwowania Cleverbota również się nie powiodła – wyglądało na to, że było na odwrót. Cleverbot bardzo mi się spodobał, bo trudniej było go odróżnić od prawdziwego człowieka.\n",
        "\n",
        "Mimo to Siri posiada więcej zaawansowanych informacji niż Cleverbot. Na przykład na pytanie „Co to jest cognitive science?” Siri odpowiedziała szczegółowo, podczas gdy Cleverbot tego nie potrafił. Z kolei na pytanie „Tell me a joke” Cleverbot odpowiedział „My life”, podczas gdy Siri podała bardziej naukowy żart."
      ],
      "metadata": {
        "id": "GRVW95___2cj"
      }
    }
  ]
}