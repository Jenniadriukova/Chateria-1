{
  "nbformat": 4,
  "nbformat_minor": 0,
  "metadata": {
    "colab": {
      "provenance": [],
      "authorship_tag": "ABX9TyN5nMqOgc3wJ5sxZskGqpWS",
      "include_colab_link": true
    },
    "kernelspec": {
      "name": "python3",
      "display_name": "Python 3"
    },
    "language_info": {
      "name": "python"
    }
  },
  "cells": [
    {
      "cell_type": "markdown",
      "metadata": {
        "id": "view-in-github",
        "colab_type": "text"
      },
      "source": [
        "<a href=\"https://colab.research.google.com/github/Jenniadriukova/Chateria-1/blob/main/Prolog1.ipynb\" target=\"_parent\"><img src=\"https://colab.research.google.com/assets/colab-badge.svg\" alt=\"Open In Colab\"/></a>"
      ]
    },
    {
      "cell_type": "code",
      "execution_count": null,
      "metadata": {
        "colab": {
          "base_uri": "https://localhost:8080/"
        },
        "id": "28Ntdd5bdQDf",
        "outputId": "0e57b6b5-711b-46ff-84e8-f08f8875d907"
      },
      "outputs": [
        {
          "output_type": "stream",
          "name": "stdout",
          "text": [
            "True\n"
          ]
        }
      ],
      "source": [
        "# Fakty zapisane jako słownik 1\n",
        "fakty = {\n",
        "    'ojciec': [('Jan', 'Anna'), ('Piotr', 'Kasia')],\n",
        "    'matka': [('Maria', 'Anna'), ('Ewa', 'Kasia')]\n",
        "}\n",
        "\n",
        "# Funkcja do sprawdzania reguły rodzica\n",
        "def czy_jest_matką(osoba1, osoba2):\n",
        "    return (osoba1, osoba2) in fakty.get('matka', [])\n",
        "\n",
        "print(czy_jest_matką('Maria', 'Anna'))  # True"
      ]
    },
    {
      "cell_type": "markdown",
      "source": [
        "Zadanie 2"
      ],
      "metadata": {
        "id": "B6GMq1olcwxf"
      }
    },
    {
      "cell_type": "code",
      "source": [
        "# Fakty zapisane jako słownik 1\n",
        "fakty = {\n",
        "    'ojciec': [('Jan', 'Anna'), ('Piotr', 'Kasia')],\n",
        "    'matka': [('Maria', 'Anna'), ('Ewa', 'Kasia')]\n",
        "}\n",
        "\n",
        "# Funkcja do sprawdzania reguły rodzica\n",
        "def czy_jest_ojcem(osoba1, osoba2):\n",
        "    return (osoba1, osoba2) in fakty.get('ojciec', [])\n",
        "\n",
        "print(czy_jest_ojcem(''))  # True"
      ],
      "metadata": {
        "colab": {
          "base_uri": "https://localhost:8080/"
        },
        "id": "QFsam-mH15Ja",
        "outputId": "a670c984-e3ce-4e1e-8280-ac3b775370c4"
      },
      "execution_count": null,
      "outputs": [
        {
          "output_type": "stream",
          "name": "stdout",
          "text": [
            "True\n"
          ]
        }
      ]
    },
    {
      "cell_type": "code",
      "source": [
        "# Fakty zapisane jako słownik 1\n",
        "fakty = {\n",
        "    'ojciec': [('Jan', 'Anna'), ('Piotr', 'Kasia')],\n",
        "    'matka': [('Maria', 'Anna'), ('Ewa', 'Kasia')]\n",
        "}\n",
        "\n",
        "# Funkcja do sprawdzania reguły rodzica\n",
        "def czy_jest_rodzicem(osoba1, osoba2):\n",
        "    return (osoba1, osoba2) in fakty.get('rodzic', [])\n",
        "\n",
        "print(czy_jest_rodzicem('Ewa', 'Kasia'))  # True"
      ],
      "metadata": {
        "colab": {
          "base_uri": "https://localhost:8080/"
        },
        "id": "nXk6N446hJqn",
        "outputId": "a8e991db-dbed-4126-e081-b8fbdbaa2343"
      },
      "execution_count": null,
      "outputs": [
        {
          "output_type": "stream",
          "name": "stdout",
          "text": [
            "False\n"
          ]
        }
      ]
    },
    {
      "cell_type": "code",
      "source": [
        "# kod 2\n",
        "# Fakty zapisane jako słownik\n",
        "fakty = {\n",
        "    'ojciec': [('Jan', 'Anna'), ('Piotr', 'Kasia')],\n",
        "    'matka': [('Maria', 'Anna'), ('Ewa', 'Kasia')],\n",
        "    'zwierzę': [('kot', 'Anna'), ('Pies','Kasia')]\n",
        "}\n",
        "\n",
        "# Funkcja do sprawdzania reguły rodzica\n",
        "def czy_jest_zwierzę(osoba1, osoba2):\n",
        "    return (osoba1, osoba2) in fakty.get('zwierz', [])\n",
        "\n",
        "print(czy_jest_zwierzę(osoba1='kot', osoba2='Anna'))  # True\n"
      ],
      "metadata": {
        "colab": {
          "base_uri": "https://localhost:8080/"
        },
        "id": "W8KjZUJ7higc",
        "outputId": "30f529d9-b16a-423a-a99d-b39817e0feeb"
      },
      "execution_count": null,
      "outputs": [
        {
          "output_type": "stream",
          "name": "stdout",
          "text": [
            "False\n"
          ]
        }
      ]
    },
    {
      "cell_type": "code",
      "source": [],
      "metadata": {
        "id": "zq4QdemNk90Y"
      },
      "execution_count": null,
      "outputs": []
    },
    {
      "cell_type": "markdown",
      "source": [
        "Zadanie 4"
      ],
      "metadata": {
        "id": "A8jCaxA0chY6"
      }
    },
    {
      "cell_type": "code",
      "source": [
        "fakty = {\n",
        "    'ojciec': [('Jan', 'Anna'), ('Piotr', 'Kasia')],\n",
        "    'matka': [('Maria', 'Anna'), ('Ewa', 'Kasia')],\n",
        "}\n",
        "\n",
        "def czy_jest_rodzicem(osoba1, osoba2):\n",
        "    return (osoba1, osoba2) in fakty.get('matka', []) or (osoba1, osoba2) in fakty.get('ojciec', [])\n",
        "\n",
        "def znajdz_przodkow(osoba, stopien):\n",
        "    przodkowie = set()\n",
        "    aktualna_generacja = {osoba}\n",
        "\n",
        "    for i in range(stopien):\n",
        "        nastepna_generacja = set()\n",
        "\n",
        "        for osoba in aktualna_generacja:\n",
        "            for rola, relacje in fakty.items():\n",
        "                for rodzic, dziecko in relacje:\n",
        "                    if dziecko == osoba:\n",
        "                        nastepna_generacja.add(rodzic)\n",
        "                        przodkowie.add((rola, rodzic, i + 1))\n",
        "\n",
        "        aktualna_generacja = nastepna_generacja\n",
        "\n",
        "    return przodkowie\n",
        "\n",
        "def modyfikuj_fakty(dodany_stopien):\n",
        "    nowe_fakty = {'pra-pra-dziadek': [], 'pra-pra-babcia': []}\n",
        "\n",
        "    for dziecko, _ in fakty.get('ojciec', []) + fakty.get('matka', []):\n",
        "        przodkowie = znajdz_przodkow(dziecko, dodany_stopien)\n",
        "\n",
        "        for rola, osoba, stopien in przodkowie:\n",
        "            if stopien == dodany_stopien:\n",
        "                if rola == 'ojciec':\n",
        "                    nowe_fakty['pra-pra-dziadek'].append((osoba, dziecko))\n",
        "                elif rola == 'matka':\n",
        "                    nowe_fakty['pra-pra-babcia'].append((osoba, dziecko))\n",
        "\n",
        "    fakty.update(nowe_fakty)\n",
        "\n",
        "modyfikuj_fakty(2)\n",
        "print(fakty)"
      ],
      "metadata": {
        "colab": {
          "base_uri": "https://localhost:8080/"
        },
        "id": "m5GPkrKka4af",
        "outputId": "6bc57ed2-bab6-4101-b702-096893ab224c"
      },
      "execution_count": 3,
      "outputs": [
        {
          "output_type": "stream",
          "name": "stdout",
          "text": [
            "{'ojciec': [('Jan', 'Anna'), ('Piotr', 'Kasia')], 'matka': [('Maria', 'Anna'), ('Ewa', 'Kasia')], 'pra-pra-dziadek': [], 'pra-pra-babcia': []}\n"
          ]
        }
      ]
    },
    {
      "cell_type": "markdown",
      "source": [
        "Zadanie 5"
      ],
      "metadata": {
        "id": "YFZmTwMyclGo"
      }
    },
    {
      "cell_type": "code",
      "source": [
        "fakty2 = {\n",
        "    'ojciec': [('Jan', 'Anna'), ('Piotr', 'Kasia')],\n",
        "    'matka': [('Maria', 'Anna'), ('Ewa', 'Kasia')],\n",
        "}\n",
        "\n",
        "def jest_rodzicem(rodzic, dziecko):\n",
        "    return (rodzic, dziecko) in fakty2.get('matka', []) or (rodzic, dziecko) in fakty2.get('ojciec', [])\n",
        "\n",
        "def dodaj_dziadkow_i_babcie():\n",
        "    nowe_fakty = {'dziadek': [], 'babcia': []}\n",
        "\n",
        "    for rodzaj, relacje in fakty2.items():\n",
        "        for rodzic, dziecko in relacje:\n",
        "            for rodzaj_rodzica, relacje_rodzica in fakty2.items():\n",
        "                for dziadek_babcia, rodzic_rodzica in relacje_rodzica:\n",
        "                    if rodzic_rodzica == rodzic:\n",
        "                        if rodzaj_rodzica == 'ojciec':\n",
        "                            nowe_fakty['dziadek'].append((dziadek_babcia, dziecko))\n",
        "                        elif rodzaj_rodzica == 'matka':\n",
        "                            nowe_fakty['babcia'].append((dziadek_babcia, dziecko))\n",
        "\n",
        "    # fakty2.update(nowe_fakty)\n",
        "\n",
        "dodaj_dziadkow_i_babcie()\n",
        "print(fakty2)"
      ],
      "metadata": {
        "colab": {
          "base_uri": "https://localhost:8080/"
        },
        "id": "HJJRA0jkbRba",
        "outputId": "36b20d3b-4ab3-47cb-b28a-83f1abb76467"
      },
      "execution_count": 7,
      "outputs": [
        {
          "output_type": "stream",
          "name": "stdout",
          "text": [
            "{'ojciec': [('Jan', 'Anna'), ('Piotr', 'Kasia')], 'matka': [('Maria', 'Anna'), ('Ewa', 'Kasia')]}\n"
          ]
        }
      ]
    },
    {
      "cell_type": "markdown",
      "source": [],
      "metadata": {
        "id": "HtwvItUEbcn7"
      }
    },
    {
      "cell_type": "markdown",
      "source": [
        "Zadanie 3"
      ],
      "metadata": {
        "id": "M7a9-dhPcn4j"
      }
    },
    {
      "cell_type": "code",
      "source": [
        " #Fakty zapisane jako słownik\n",
        "fakty = {\n",
        "    'ojciec': [('Jan', 'Anna'), ('Piotr', 'Kasia')],\n",
        "    'matka': [('Maria', 'Anna'), ('Ewa', 'Kasia')]\n",
        "}\n",
        "\n",
        "def czy_jest_rodzicem(osoba1, osoba2):\n",
        "    return (osoba1, osoba2) in fakty['ojciec'] or (osoba1, osoba2) in fakty['matka']\n",
        "\n",
        "def znajdz_rodzicow(dziecko):\n",
        "    rodzice = []\n",
        "    for rodzic, dziecko_w_faktach in fakty['ojciec'] + fakty['matka']:\n",
        "        if dziecko_w_faktach == dziecko:\n",
        "            rodzice.append(rodzic)\n",
        "    return rodzice\n",
        "\n",
        "def dodaj_pra_pra_dziadkow():\n",
        "    fakty['pra-pra-dziadek'] = []\n",
        "    fakty['pra-pra-babcia'] = []\n",
        "\n",
        "    for rodzic, dziecko in fakty['ojciec'] + fakty['matka']:\n",
        "        rodzice_rodzica = znajdz_rodzicow(rodzic)\n",
        "        for dziadek in rodzice_rodzica:\n",
        "            if (rodzic, dziecko) in fakty['ojciec']:\n",
        "                fakty['pra-pra-dziadek'].append((dziadek, dziecko))\n",
        "            else:\n",
        "                fakty['pra-pra-babcia'].append((dziadek, dziecko))\n",
        "\n",
        "dodaj_pra_pra_dziadkow()\n",
        "\n",
        "print(fakty)"
      ],
      "metadata": {
        "colab": {
          "base_uri": "https://localhost:8080/"
        },
        "id": "Qi3RgwVGbdVU",
        "outputId": "4bd67bd3-20b0-4804-b322-4003413fbb5a"
      },
      "execution_count": 8,
      "outputs": [
        {
          "output_type": "stream",
          "name": "stdout",
          "text": [
            "{'ojciec': [('Jan', 'Anna'), ('Piotr', 'Kasia')], 'matka': [('Maria', 'Anna'), ('Ewa', 'Kasia')], 'pra-pra-dziadek': [], 'pra-pra-babcia': []}\n"
          ]
        }
      ]
    },
    {
      "cell_type": "markdown",
      "source": [
        "Zadanie1"
      ],
      "metadata": {
        "id": "Wnt4-AVRcsgg"
      }
    },
    {
      "cell_type": "code",
      "source": [
        "# Fakty zapisane jako słownik\n",
        "fakty = {\n",
        "    'ojciec': [('Jan', 'Anna'), ('Piotr', 'Kasia')],\n",
        "    'matka': [('Maria', 'Anna'), ('Ewa', 'Kasia')]\n",
        "}\n",
        "\n",
        "# Funkcja do sprawdzania reguły rodzica\n",
        "def czy_jest_ojcem(osoba1, osoba2):\n",
        "    return (osoba1, osoba2) in fakty.get('ojciec', [])\n",
        "\n",
        "print(czy_jest_ojcem('Maria', 'Anna'))  # True"
      ],
      "metadata": {
        "colab": {
          "base_uri": "https://localhost:8080/"
        },
        "outputId": "1778ce89-5448-4646-e36f-a6f02b7ead74",
        "id": "F-HJLfIudXou"
      },
      "execution_count": null,
      "outputs": [
        {
          "output_type": "stream",
          "name": "stdout",
          "text": [
            "False\n"
          ]
        }
      ]
    }
  ]
}